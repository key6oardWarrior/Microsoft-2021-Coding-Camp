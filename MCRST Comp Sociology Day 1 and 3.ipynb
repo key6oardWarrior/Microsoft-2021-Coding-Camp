{
 "cells": [
  {
   "cell_type": "markdown",
   "id": "83252548",
   "metadata": {},
   "source": [
    "Day 1 "
   ]
  },
  {
   "cell_type": "markdown",
   "id": "a778d666",
   "metadata": {},
   "source": [
    "What is Sociology?"
   ]
  },
  {
   "cell_type": "markdown",
   "id": "27a36487",
   "metadata": {},
   "source": [
    "- Sociology is the study of society and everything inhabited by society science, nature, technology, people, and law, etc. are apart of it.\n",
    "   - the six institutions of sociology:\n",
    "   - what /why are there 6 insituions.\n",
    "        - Family\n",
    "        - Government\n",
    "        - Religion\n",
    "        - Education\n",
    "        - Economy\n",
    "        - Health and Medicine\n",
    "   "
   ]
  },
  {
   "cell_type": "markdown",
   "id": "da0ec764",
   "metadata": {},
   "source": [
    " - Sociological theories\n",
    "        - Social Theory\n",
    "            - refers to ideas, arguments, hypotheses, thought-experiments and explanatory speculations about how and why human societies—or elements or structures of such societies—come to be formed, change, and develop over time or disappear\n",
    "        - Conflict Theory\n",
    "            -  Karl Marx states that society is in a state of perpetual conflict because of competition because of our limited resources.\n",
    "        - Symbolic Interactionism\n",
    "            - the view of social behavior that emphasizes linguistic or gestural communication and its subjective understanding, especially the role of language in the formation of the child as a social being.\n",
    "       \n",
    "   "
   ]
  },
  {
   "cell_type": "markdown",
   "id": "22449de9",
   "metadata": {},
   "source": [
    " - Sociology of Race\n",
    "     - Critical Race Theory\n",
    "            - Created by DuBios\n",
    " - Sociology of Captialism\n",
    "    - Collective consciousness\n",
    "- Discussion of video:\n",
    "    - Analyze songs\n",
    "    - Temptation: Joey Bada\n",
    "          − ℎ𝑡𝑡𝑝𝑠://𝑤𝑤𝑤.𝑦𝑜𝑢𝑡𝑢𝑏𝑒.𝑐𝑜𝑚/𝑤𝑎𝑡𝑐ℎ?𝑣=𝐽𝑀𝑟𝑓0𝐹𝐹𝑚𝑜𝑔𝐼−𝑌𝑈𝐷𝑂𝑁\"𝑇𝐿𝑂𝑉𝐸𝑀𝐸?:𝐽𝑜𝑒𝑦𝐵𝑎𝑑𝑎\n",
    "          - https://www.youtube.com/watch?v=kh565yo6MX4"
   ]
  },
  {
   "cell_type": "markdown",
   "id": "f7cff8cc",
   "metadata": {},
   "source": [
    "Topics:\n",
    "- What is computational sociology?\n",
    "    - Computational social science is a new topic of research that combines social science with computer science and engineering professions. To create theories of human behavior, this field applies computational approaches to novel sources of digital data such as social media, administrative records, and historical archives.\n",
    "- What is Data Science?\n",
    "    - An area of Study that combines statistics, programming, and mathematics to one discipline.\n",
    "- How can the two of these be used for social change?\n",
    "    - They can be used for social change because they both have a base in research and data. In research we have to look into issues dealing with Race, gender, socioeconomic status, etc. We can bring about change "
   ]
  },
  {
   "cell_type": "markdown",
   "id": "4b87092c",
   "metadata": {},
   "source": [
    "sample:\n",
    "    https://towardsdatascience.com/using-data-science-for-improving-an-education-system-the-case-for-indonesia-5909782379b3"
   ]
  },
  {
   "cell_type": "code",
   "execution_count": null,
   "id": "1abc9ee2",
   "metadata": {},
   "outputs": [],
   "source": []
  }
 ],
 "metadata": {
  "kernelspec": {
   "display_name": "Python 3",
   "language": "python",
   "name": "python3"
  },
  "language_info": {
   "codemirror_mode": {
    "name": "ipython",
    "version": 3
   },
   "file_extension": ".py",
   "mimetype": "text/x-python",
   "name": "python",
   "nbconvert_exporter": "python",
   "pygments_lexer": "ipython3",
   "version": "3.8.8"
  }
 },
 "nbformat": 4,
 "nbformat_minor": 5
}
