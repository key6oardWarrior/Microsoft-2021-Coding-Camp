{
 "cells": [
  {
   "cell_type": "markdown",
   "id": "a5004a37",
   "metadata": {},
   "source": [
    "Governancece, Explainability and Accountility\n",
    "why making AIs fair, accountable and transparent is crucial.\n",
    "Limitations of transparency ideal and its application to algorithmis accountability\n",
    "Is effective regulation of AI possible? Eight potential regulatory problems"
   ]
  },
  {
   "cell_type": "markdown",
   "id": "94aa2a0e",
   "metadata": {},
   "source": [
    " - Governance\n",
    "     - Artificial intelligence has heightened concerns about computerized decisions to new heights. In society, powerful AIs are spreading through banks, law firms, and corporations, as well as the National Health Service and government. It's not their popularity that's the issue; it's whether they're honest and accountable.\n",
    "     - Bad AIs have mistakenly labeled innocent people as terrorists, sent sick patients home from the hospital, revoked people's driver's licenses, removed people from the electoral rolls, and pursued the incorrect men for child support bills. Names, addresses, gender, and skin color have all been used as criteria for discrimination.\n",
    "     - It is not necessary to have terrible intentions in order to create harmful AI. After training it on data about people who went to the top of the company, a corporation might use AI to search CVs for good job applications. If the company's culture is healthy, the AI may be able to recognize prospective prospects, but if it isn't, it may propose candidates for interview who aren't beyond stomping on their coworkers for a promotion.\n",
    "     - One of the most important areas of AI research is figuring out how to make AIs more fair, accountable, and transparent. The majority of AIs are created by private corporations that do not allow others to observe how they operate. Furthermore, many AIs use such complicated neural networks that even their creators are baffled as to how they arrive at answers. The decisions come from a \"black box,\" and they have to be taken on faith.\n",
    "     - The AI Now Institute at New York University, which studies AI's societal impact, has advised government institutions in charge of criminal justice, healthcare, welfare, and education to prohibit black box AIs from operating because their decisions are opaque."
   ]
  },
  {
   "cell_type": "markdown",
   "id": "aa604d42",
   "metadata": {},
   "source": [
    "- Accountility\n",
    "    - Who is accountable for ethics?\n",
    "         - according to IBM, \"AI designers and developers are responsible for considering AI design, development, decision processes, and outcomes.\"\n",
    "             - 01 Make company policies clear and accessible to design and development teams from day one so that no one is confused about issues of responsibility or accountability. As an AI designer or developer, it is your responsibility to know.\n",
    "             - 02 Understand where the responsibility of the company/software ends. You may not have control over how data or a tool will be used by a user, client, or other external source.\n",
    "            - 03 Keep detailed records of your design processes and decision making. Determine a strategy for keeping records during the design and development process to encourage best practices and encourage iteration.\n",
    "            - 04 Adhere to your company’s business conduct guidelines. Also, understand national and international laws, regulations, and guidelines that your AI may have to work within. You can find other related resources in the IEEE Ethically Aligned Design document.\n",
    "          - Places like Elder Research, believe that everyone in the company is in charge of making the right and ethical decision and go after looking for people who have the same beliefs and practices.\n",
    "              - they look for honest people.\n",
    " - So, is it possible to regulate AI and allow us to see if this is true?"
   ]
  },
  {
   "cell_type": "markdown",
   "id": "868a455b",
   "metadata": {},
   "source": [
    "- Is effective regulation of AI possible?\n",
    "     - 1. The Definitional Argument.\n",
    "     - 2. The Ex Post Argument: Liability Gaps and Control Problems\n",
    "     - 3. The Ex Ante Argument: Discreetness, Diffuseness, Discreteness and Opacity"
   ]
  },
  {
   "cell_type": "code",
   "execution_count": null,
   "id": "7590740e",
   "metadata": {},
   "outputs": [],
   "source": []
  },
  {
   "cell_type": "code",
   "execution_count": null,
   "id": "343b8dd8",
   "metadata": {},
   "outputs": [],
   "source": []
  }
 ],
 "metadata": {
  "kernelspec": {
   "display_name": "Python 3",
   "language": "python",
   "name": "python3"
  },
  "language_info": {
   "codemirror_mode": {
    "name": "ipython",
    "version": 3
   },
   "file_extension": ".py",
   "mimetype": "text/x-python",
   "name": "python",
   "nbconvert_exporter": "python",
   "pygments_lexer": "ipython3",
   "version": "3.8.8"
  }
 },
 "nbformat": 4,
 "nbformat_minor": 5
}
