{
 "cells": [
  {
   "cell_type": "markdown",
   "id": "f6fa8834",
   "metadata": {},
   "source": [
    "Day 1"
   ]
  },
  {
   "cell_type": "markdown",
   "id": "1013f43a",
   "metadata": {},
   "source": [
    "Topics:\n",
    "- What is sociology?\n",
    "- the six institutions of sociology:\n",
    "    - what /why are there 6 insituions.\n",
    "    - Family\n",
    "    - Government\n",
    "    - Religion\n",
    "    - Education\n",
    "    - Economy\n",
    "    - Health and Medicine\n",
    "    \n",
    "- Social Theory\n",
    "    - Conflict Theory\n",
    "    - Symbolic Interactionism\n",
    "- Sociology of Race\n",
    "- Sociology of Captialism\n",
    "- Discussion of video:\n",
    "    - Analyze songs\n",
    "        - Temptation: Joey Bada$$\n",
    "            - https://www.youtube.com/watch?v=JMrf0FFmogI\n",
    "        - Y U DON\"T LOVE ME?: Joey Bada$$\n",
    "            - https://www.youtube.com/watch?v=kh565yo6MX4"
   ]
  },
  {
   "cell_type": "markdown",
   "id": "975ebcdb",
   "metadata": {},
   "source": [
    "Day 2"
   ]
  },
  {
   "cell_type": "markdown",
   "id": "904ed224",
   "metadata": {},
   "source": [
    "Topics:\n",
    "- What is computational sociology?\n",
    "- What is Data Science?\n",
    "- How can the two of these be used for social change?\n",
    "\n"
   ]
  },
  {
   "cell_type": "markdown",
   "id": "e5860b3d",
   "metadata": {},
   "source": [
    "Day 3"
   ]
  },
  {
   "cell_type": "markdown",
   "id": "9b4b1ddb",
   "metadata": {},
   "source": [
    "Topics:\n",
    "- AI Ethics\n",
    "    - What is it?\n",
    "- Agency and Big Data\n",
    "- Bias and Fairness\n",
    "- Autonomy, System Design, Agency, and Liability\n",
    "- https://blogs.harvard.edu/jzwrites/files/2017/07/1_19_Ethics-and-Governance-of-AI-Syllabus.pdf"
   ]
  },
  {
   "cell_type": "markdown",
   "id": "e8f8f932",
   "metadata": {},
   "source": [
    "Day 4"
   ]
  },
  {
   "cell_type": "markdown",
   "id": "d574af98",
   "metadata": {},
   "source": [
    "Topics:\n",
    "- Governancece, Explainability and Accountility\n",
    "    - why making AIs fair, accountable and transparent is crucial.\n",
    "    - Limitations of transparency ideal and its application to algorithmis accountability\n",
    "    - Is effective regulation of AI possible? Eight potential regulatory problems\n",
    "\n"
   ]
  },
  {
   "cell_type": "markdown",
   "id": "e963626b",
   "metadata": {},
   "source": [
    "Day 5"
   ]
  },
  {
   "cell_type": "markdown",
   "id": "d54ce55a",
   "metadata": {},
   "source": [
    "Topic:\n",
    "- Labor, Automation, and regulation\n",
    "    - Ironies or automation Law\n",
    "    - programming the algorithimic social contract"
   ]
  },
  {
   "cell_type": "markdown",
   "id": "0a4d10ee",
   "metadata": {},
   "source": [
    "Day 6"
   ]
  },
  {
   "cell_type": "markdown",
   "id": "8ada5fca",
   "metadata": {},
   "source": [
    "Topic:\n",
    "- Ethics, Moral, and frontiers\n",
    "    - Moral Machine\n",
    "    - Full Tilt: When 100% of cars are Autonomous"
   ]
  },
  {
   "cell_type": "markdown",
   "id": "09ca4d1b",
   "metadata": {},
   "source": [
    "Day 7"
   ]
  },
  {
   "cell_type": "markdown",
   "id": "08df7829",
   "metadata": {},
   "source": [
    "Fill in the blank:\n",
    "- look at a cholorpleth map that showcases food deserts\n",
    "    - explain what a chloropleth map is and show examples\n",
    "    - get them fill in the blank based on basic concpets learned from the previous weeks"
   ]
  },
  {
   "cell_type": "markdown",
   "id": "70d20067",
   "metadata": {},
   "source": [
    "Day 8"
   ]
  },
  {
   "cell_type": "markdown",
   "id": "3d46e216",
   "metadata": {},
   "source": [
    "Fill in the blank:\n",
    "- look at a log scale color graphs that showcases minimium wage in the United States\n",
    "    - explain what a log scale color graphs is and show examples\n",
    "    - get them fill in the blank based on basic concpets learned from the previous weeks"
   ]
  },
  {
   "cell_type": "markdown",
   "id": "d37b10a8",
   "metadata": {},
   "source": [
    "Day 9"
   ]
  },
  {
   "cell_type": "markdown",
   "id": "ce343eb5",
   "metadata": {},
   "source": [
    "Practice:\n",
    "- We will Ai ethics senarios while looking data analysising it and figuring what is the ethical thing to do."
   ]
  },
  {
   "cell_type": "markdown",
   "id": "4cdf3e4f",
   "metadata": {},
   "source": [
    "Day 10"
   ]
  },
  {
   "cell_type": "markdown",
   "id": "21335f5a",
   "metadata": {},
   "source": [
    "Practice:\n",
    "- We will Ai ethics senarios while looking data analysising it and figuring what is the ethical thing to do."
   ]
  },
  {
   "cell_type": "code",
   "execution_count": null,
   "id": "10da6d4f",
   "metadata": {},
   "outputs": [],
   "source": []
  }
 ],
 "metadata": {
  "kernelspec": {
   "display_name": "Python 3",
   "language": "python",
   "name": "python3"
  },
  "language_info": {
   "codemirror_mode": {
    "name": "ipython",
    "version": 3
   },
   "file_extension": ".py",
   "mimetype": "text/x-python",
   "name": "python",
   "nbconvert_exporter": "python",
   "pygments_lexer": "ipython3",
   "version": "3.8.8"
  }
 },
 "nbformat": 4,
 "nbformat_minor": 5
}
