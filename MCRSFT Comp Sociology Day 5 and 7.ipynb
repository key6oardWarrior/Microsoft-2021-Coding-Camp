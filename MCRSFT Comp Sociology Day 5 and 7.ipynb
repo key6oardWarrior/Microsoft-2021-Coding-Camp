{
 "cells": [
  {
   "cell_type": "markdown",
   "id": "28b378a6",
   "metadata": {},
   "source": [
    "Topics:\n",
    "AI Ethics\n",
    "What is it?\n",
    "Agency and Big Data\n",
    "Bias and Fairness\n",
    "Autonomy, System Design, Agency, and Liability\n",
    "https://blogs.harvard.edu/jzwrites/files/2017/07/1_19_Ethics-and-Governance-of-AI-Syllabus.pdf"
   ]
  },
  {
   "cell_type": "markdown",
   "id": "84588e02",
   "metadata": {},
   "source": [
    "- What is AI ethics?\n",
    "    - AI ethics is a set of beliefs, concepts, and methodologies that apply widely recognized moral standards to govern moral behavior in the development and application of AI technologies.\n",
    "- Ethics in the tech realm is important. We can choose to \n",
    "    - This includes saying no to projects that you cannot do or cannot be done in general.\n",
    "        - Building a website with SQLite. Coding laguages vary and have different functions. If you are using SQLite, you can use it as a database to hold your data from your website. But, you are not using it to build the structure of your data."
   ]
  },
  {
   "cell_type": "markdown",
   "id": "d84f7dfb",
   "metadata": {},
   "source": [
    "- Agency and Big Data\n",
    "    - Big Data\n",
    "     - The internet, the Internet of Things, and sensors can track an astounding amount of data about a person—from sleep habits, to moment-to-moment location, to every keyboard click ever executed.\n",
    "    - Furthermore, as artificial intelligence (AI) systems make more decisions, AI ethics are becoming more important in public policy. Should a self-driving automobile take the path that is least dangerous to passengers or to a pedestrian in a perilous circumstance, even if the pedestrian is at fault? Data ethics can be hard, and existing law only defines a small portion of it.\n",
    "    - "
   ]
  },
  {
   "cell_type": "markdown",
   "id": "5d102dde",
   "metadata": {},
   "source": [
    "four of the biggest issues driving the conversation around data and AI ethics:\n",
    "\n",
    "- Privacy. Citizens face widespread threats to their privacy, such as data collected on smartphones, while governments could potentially examine a citizen’s online activity. Law enforcement agencies worldwide are deploying facial recognition technology, and retail outlets have begun cataloging shoppers with facial recognition, which can be matched to their credit cards—often without customers’ awareness or consent.1 These occurrences are increasingly common.\n",
    "- Lack of transparency. AI-based algorithms are often closely held secrets or are so complex that even their creators can’t explain exactly how they work. This makes it harder to trust their results. From bank loans to college admissions to job offers, decisions are often made based on data from these complex algorithms. Which decisions might be made by “secret” criteria? Which aren’t? And what role should government play in ensuring transparency?\n",
    "\n",
    "- Bias and discrimination. Real-world bias can shape algorithmic bias. Some court systems have begun using algorithms to evaluate the criminal risk potential of criminal defendants and even begun using this data while sentencing. However, criminal risk scores and research have raised concerns over potential algorithmic bias and led to calls for greater examination.2\n",
    "\n",
    "- Understanding how an algorithm works will not alone solve the broader issue of discrimination. The critical factor is the underlying data set. If the underlying data has historically comprised a certain gender, race, or nationality, then the results could be biased against cohorts outside of those groups.\n",
    "\n",
    "- Lack of governance and accountability. One of the critical issues in the AI debate is the big question of who governs the AI system and data. Who creates ethical standards and norms? Who is accountable when unethical practices emerge? Who authorizes the collection, storage, and destruction of data?"
   ]
  },
  {
   "cell_type": "markdown",
   "id": "10dcfa13",
   "metadata": {},
   "source": [
    "- The development and commercialization of these systems raises the question of how liability concerns may manifest themselves in the real world. However, because technological progress has overtaken legal action, it is unknown how AI systems will be treated by the law."
   ]
  }
 ],
 "metadata": {
  "kernelspec": {
   "display_name": "Python 3",
   "language": "python",
   "name": "python3"
  },
  "language_info": {
   "codemirror_mode": {
    "name": "ipython",
    "version": 3
   },
   "file_extension": ".py",
   "mimetype": "text/x-python",
   "name": "python",
   "nbconvert_exporter": "python",
   "pygments_lexer": "ipython3",
   "version": "3.8.8"
  }
 },
 "nbformat": 4,
 "nbformat_minor": 5
}
